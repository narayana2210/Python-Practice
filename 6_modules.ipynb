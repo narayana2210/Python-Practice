{
 "cells": [
  {
   "cell_type": "markdown",
   "metadata": {
    "colab_type": "text",
    "id": "NDrXKN-NHeYR"
   },
   "source": [
    "# Modules"
   ]
  },
  {
   "cell_type": "markdown",
   "metadata": {
    "colab_type": "text",
    "id": "i0AVpPtvHeYU"
   },
   "source": [
    "Modules refer to a file containing Python statements and definitions.\n",
    "\n",
    "A file containing Python code, for e.g.: abc.py, is called a module and its module name would be \"abc\"."
   ]
  },
  {
   "cell_type": "markdown",
   "metadata": {
    "colab_type": "text",
    "id": "Cncmoy9XHeYW"
   },
   "source": [
    "We use modules to break down large programs into small manageable and organized files. Furthermore, modules provide reusability of code.\n",
    "\n",
    "We can define our most used functions in a module and import it, instead of copying their definitions into different programs."
   ]
  },
  {
   "cell_type": "markdown",
   "metadata": {
    "colab_type": "text",
    "id": "OMq5zEJZHeYY"
   },
   "source": [
    "# How to import a module?"
   ]
  },
  {
   "cell_type": "markdown",
   "metadata": {
    "colab_type": "text",
    "id": "-BZo1veLHeYa"
   },
   "source": [
    "We use the import keyword to do this."
   ]
  },
  {
   "cell_type": "code",
   "execution_count": 4,
   "metadata": {
    "colab": {},
    "colab_type": "code",
    "id": "LkdtsKI-HeYb"
   },
   "outputs": [],
   "source": [
    "import example #imported example module\n"
   ]
  },
  {
   "cell_type": "markdown",
   "metadata": {
    "colab_type": "text",
    "id": "8QYfvfCiHeYh"
   },
   "source": [
    "Using the module name we can access the function using dot (.) operation."
   ]
  },
  {
   "cell_type": "code",
   "execution_count": 1,
   "metadata": {
    "colab": {},
    "colab_type": "code",
    "id": "4aS7F29GHeYk",
    "outputId": "6283c968-e7a6-4450-de6a-94abff22feff"
   },
   "outputs": [
    {
     "ename": "NameError",
     "evalue": "name 'example' is not defined",
     "output_type": "error",
     "traceback": [
      "\u001b[1;31m---------------------------------------------------------------------------\u001b[0m",
      "\u001b[1;31mNameError\u001b[0m                                 Traceback (most recent call last)",
      "\u001b[1;32m<ipython-input-1-865fb5942dcf>\u001b[0m in \u001b[0;36m<module>\u001b[1;34m\u001b[0m\n\u001b[1;32m----> 1\u001b[1;33m \u001b[0mexample\u001b[0m\u001b[1;33m.\u001b[0m\u001b[0madd\u001b[0m\u001b[1;33m(\u001b[0m\u001b[1;36m10\u001b[0m\u001b[1;33m,\u001b[0m \u001b[1;36m20\u001b[0m\u001b[1;33m)\u001b[0m\u001b[1;33m\u001b[0m\u001b[1;33m\u001b[0m\u001b[0m\n\u001b[0m",
      "\u001b[1;31mNameError\u001b[0m: name 'example' is not defined"
     ]
    }
   ],
   "source": [
    "example.add(10, 20)\n"
   ]
  },
  {
   "cell_type": "markdown",
   "metadata": {
    "colab_type": "text",
    "id": "UzrMkOH9HeYs"
   },
   "source": [
    "Python has a lot of standard modules available.\n",
    "\n",
    "https://docs.python.org/3/py-modindex.html "
   ]
  },
  {
   "cell_type": "markdown",
   "metadata": {
    "colab_type": "text",
    "id": "k-zR_tU7HeYs"
   },
   "source": [
    "# Examples:"
   ]
  },
  {
   "cell_type": "code",
   "execution_count": 5,
   "metadata": {
    "colab": {},
    "colab_type": "code",
    "id": "dRUqBrXjHeYt",
    "outputId": "add83409-8085-4540-b91b-be5580a6a8c3"
   },
   "outputs": [
    {
     "name": "stdout",
     "output_type": "stream",
     "text": [
      "3.141592653589793\n"
     ]
    }
   ],
   "source": [
    "import math\n",
    "print(math.pi)\n"
   ]
  },
  {
   "cell_type": "code",
   "execution_count": 12,
   "metadata": {
    "colab": {},
    "colab_type": "code",
    "id": "wr-Jyr-cHeY1",
    "outputId": "438ed43d-8c18-4da3-e929-1c4c1676ba5c"
   },
   "outputs": [
    {
     "data": {
      "text/plain": [
       "datetime.datetime(2020, 2, 5, 14, 45, 17, 961473)"
      ]
     },
     "execution_count": 12,
     "metadata": {},
     "output_type": "execute_result"
    }
   ],
   "source": [
    "import datetime\n",
    "datetime.datetime.now()\n"
   ]
  },
  {
   "cell_type": "markdown",
   "metadata": {
    "colab_type": "text",
    "id": "34mCV3oJHeY4"
   },
   "source": [
    "# import with renaming"
   ]
  },
  {
   "cell_type": "code",
   "execution_count": 13,
   "metadata": {
    "colab": {},
    "colab_type": "code",
    "id": "BljTPvmRHeY5",
    "outputId": "c1213478-fa22-4cc8-cc8a-d6073e5afb1d"
   },
   "outputs": [
    {
     "name": "stdout",
     "output_type": "stream",
     "text": [
      "3.141592653589793\n"
     ]
    }
   ],
   "source": [
    "import math as m\n",
    "print(m.pi)\n"
   ]
  },
  {
   "cell_type": "markdown",
   "metadata": {
    "colab_type": "text",
    "id": "Yck3dGWaHeY-"
   },
   "source": [
    "# from...import statement"
   ]
  },
  {
   "cell_type": "markdown",
   "metadata": {
    "colab_type": "text",
    "id": "PgxZkgecHeY_"
   },
   "source": [
    "We can import specific names form a module without importing the module as a whole."
   ]
  },
  {
   "cell_type": "code",
   "execution_count": 0,
   "metadata": {
    "colab": {},
    "colab_type": "code",
    "id": "SAgwJxMuHeZA",
    "outputId": "1c5c83bd-525f-483d-95dd-5813d922912b"
   },
   "outputs": [
    {
     "data": {
      "text/plain": [
       "datetime.datetime(2017, 10, 18, 20, 47, 38, 17242)"
      ]
     },
     "execution_count": 9,
     "metadata": {
      "tags": []
     },
     "output_type": "execute_result"
    }
   ],
   "source": [
    "from datetime import datetime \n",
    "datetime.now()\n"
   ]
  },
  {
   "cell_type": "markdown",
   "metadata": {
    "colab_type": "text",
    "id": "3FKKbMKCHeZL"
   },
   "source": [
    "# import all names"
   ]
  },
  {
   "cell_type": "code",
   "execution_count": 16,
   "metadata": {
    "colab": {},
    "colab_type": "code",
    "id": "OvEe2dxZHeZM",
    "outputId": "42a14832-f267-4af1-b712-79c1d099a760"
   },
   "outputs": [
    {
     "name": "stdout",
     "output_type": "stream",
     "text": [
      "Value of PI is 3.141592653589793\n"
     ]
    }
   ],
   "source": [
    "from math import *\n",
    "print(\"Value of PI is \" + str(pi))\n"
   ]
  },
  {
   "cell_type": "markdown",
   "metadata": {
    "colab_type": "text",
    "id": "dPVCLPyQHeZR"
   },
   "source": [
    "# dir() built in function"
   ]
  },
  {
   "cell_type": "markdown",
   "metadata": {
    "colab_type": "text",
    "id": "EPRn9wTiHeZT"
   },
   "source": [
    "We can use the dir() function to find out names that are defined inside a module."
   ]
  },
  {
   "cell_type": "code",
   "execution_count": 23,
   "metadata": {
    "colab": {},
    "colab_type": "code",
    "id": "T9PeK-KxHeZX",
    "outputId": "ecdf1d42-e747-4e27-9a5a-5811ea885c97"
   },
   "outputs": [
    {
     "data": {
      "text/plain": [
       "['__doc__',\n",
       " '__loader__',\n",
       " '__name__',\n",
       " '__package__',\n",
       " '__spec__',\n",
       " 'acos',\n",
       " 'acosh',\n",
       " 'asin',\n",
       " 'asinh',\n",
       " 'atan',\n",
       " 'atan2',\n",
       " 'atanh',\n",
       " 'ceil',\n",
       " 'copysign',\n",
       " 'cos',\n",
       " 'cosh',\n",
       " 'degrees',\n",
       " 'e',\n",
       " 'erf',\n",
       " 'erfc',\n",
       " 'exp',\n",
       " 'expm1',\n",
       " 'fabs',\n",
       " 'factorial',\n",
       " 'floor',\n",
       " 'fmod',\n",
       " 'frexp',\n",
       " 'fsum',\n",
       " 'gamma',\n",
       " 'gcd',\n",
       " 'hypot',\n",
       " 'inf',\n",
       " 'isclose',\n",
       " 'isfinite',\n",
       " 'isinf',\n",
       " 'isnan',\n",
       " 'ldexp',\n",
       " 'lgamma',\n",
       " 'log',\n",
       " 'log10',\n",
       " 'log1p',\n",
       " 'log2',\n",
       " 'modf',\n",
       " 'nan',\n",
       " 'pi',\n",
       " 'pow',\n",
       " 'radians',\n",
       " 'sin',\n",
       " 'sinh',\n",
       " 'sqrt',\n",
       " 'tan',\n",
       " 'tanh',\n",
       " 'tau',\n",
       " 'trunc']"
      ]
     },
     "execution_count": 23,
     "metadata": {},
     "output_type": "execute_result"
    }
   ],
   "source": [
    "dir(math)"
   ]
  },
  {
   "cell_type": "code",
   "execution_count": 0,
   "metadata": {
    "colab": {},
    "colab_type": "code",
    "id": "1vvA0aSwHeZb",
    "outputId": "61b9e1ff-5334-4103-8a62-b4e40ae61002"
   },
   "outputs": [
    {
     "name": "stdout",
     "output_type": "stream",
     "text": [
      "\n",
      "    This program adds two numbers and return the result\n",
      "    \n"
     ]
    }
   ],
   "source": [
    "print(example.add.__doc__)\n"
   ]
  },
  {
   "cell_type": "code",
   "execution_count": 36,
   "metadata": {},
   "outputs": [
    {
     "data": {
      "text/plain": [
       "'-'"
      ]
     },
     "execution_count": 36,
     "metadata": {},
     "output_type": "execute_result"
    }
   ],
   "source": [
    "import re\n",
    "m = re.search('-', 'spam-egg')\n",
    "m.group(0)"
   ]
  },
  {
   "cell_type": "code",
   "execution_count": 45,
   "metadata": {},
   "outputs": [
    {
     "name": "stdout",
     "output_type": "stream",
     "text": [
      "Phone Num :  2004-959-559 # This is Phone Number\n"
     ]
    }
   ],
   "source": [
    "#!/usr/bin/python\n",
    "import re\n",
    "\n",
    "phone = \"2004-959-559 # This is Phone Number\"\n",
    "\n",
    "# Delete Python-style comments\n",
    "num = re.sub(r'W#.*$', \"\", phone)\n",
    "print (\"Phone Num : \", num)\n"
   ]
  },
  {
   "cell_type": "code",
   "execution_count": 54,
   "metadata": {},
   "outputs": [],
   "source": [
    "text=\"iam a * boy\"\n",
    "#text.replace(\"*\",\"good\")"
   ]
  },
  {
   "cell_type": "code",
   "execution_count": 55,
   "metadata": {},
   "outputs": [],
   "source": [
    " text = re.sub(r\"[^A-Za-z0-9(),!?\\'\\`]\", \" \", text)"
   ]
  },
  {
   "cell_type": "code",
   "execution_count": 56,
   "metadata": {},
   "outputs": [
    {
     "name": "stdout",
     "output_type": "stream",
     "text": [
      "iam a   boy\n"
     ]
    }
   ],
   "source": [
    "print(text)"
   ]
  },
  {
   "cell_type": "code",
   "execution_count": 60,
   "metadata": {},
   "outputs": [
    {
     "name": "stdout",
     "output_type": "stream",
     "text": [
      "['T', 'h', 'e', '1', '2', '3']\n",
      "Yes, there is at least one match!\n"
     ]
    }
   ],
   "source": [
    "import re\n",
    "\n",
    "#txt = \"The rain in Spain\"\n",
    "txt = \"The 123\"\n",
    "\n",
    "#Return a match at every word character (characters from a to Z, digits from 0-9, and the underscore _ character):\n",
    "\n",
    "x = re.findall(\"\\w\", txt)\n",
    "\n",
    "print(x)\n",
    "\n",
    "if (x):\n",
    "  print(\"Yes, there is at least one match!\")\n",
    "else:\n",
    "  print(\"No match\")"
   ]
  },
  {
   "cell_type": "code",
   "execution_count": 65,
   "metadata": {},
   "outputs": [
    {
     "name": "stdout",
     "output_type": "stream",
     "text": [
      "a1c1\n"
     ]
    }
   ],
   "source": [
    "a_string = \"a*c!\"\n",
    "new_string = re.sub(\"[^0-9a-zA-Z]+\", \"1\", a_string)\n",
    "\n",
    "print(new_string)"
   ]
  },
  {
   "cell_type": "code",
   "execution_count": null,
   "metadata": {},
   "outputs": [],
   "source": []
  }
 ],
 "metadata": {
  "colab": {
   "name": "6_modules.ipynb",
   "provenance": [],
   "version": "0.3.2"
  },
  "kernelspec": {
   "display_name": "Python 3",
   "language": "python",
   "name": "python3"
  },
  "language_info": {
   "codemirror_mode": {
    "name": "ipython",
    "version": 3
   },
   "file_extension": ".py",
   "mimetype": "text/x-python",
   "name": "python",
   "nbconvert_exporter": "python",
   "pygments_lexer": "ipython3",
   "version": "3.6.8"
  }
 },
 "nbformat": 4,
 "nbformat_minor": 1
}
