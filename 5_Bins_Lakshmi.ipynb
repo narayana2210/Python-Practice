{
 "cells": [
  {
   "cell_type": "markdown",
   "metadata": {},
   "source": [
    "Bins"
   ]
  },
  {
   "cell_type": "code",
   "execution_count": 8,
   "metadata": {},
   "outputs": [
    {
     "name": "stdout",
     "output_type": "stream",
     "text": [
      "   percentage binned\n",
      "0        23.5      4\n",
      "1         5.0      2\n",
      "2        55.0      6\n",
      "3        78.3      6\n"
     ]
    }
   ],
   "source": [
    "import pandas as pd\n",
    "\n",
    "df=pd.DataFrame([23.5,5,55,78.3],columns=['percentage'])\n",
    "\n",
    "bins = [0, 1, 5, 10, 25, 50, 100]\n",
    "labels = [1,2,3,4,5,6]\n",
    "df['binned'] = pd.cut(df['percentage'], bins=bins, labels=labels)\n",
    "print (df)"
   ]
  }
 ],
 "metadata": {
  "kernelspec": {
   "display_name": "Python 3",
   "language": "python",
   "name": "python3"
  },
  "language_info": {
   "codemirror_mode": {
    "name": "ipython",
    "version": 3
   },
   "file_extension": ".py",
   "mimetype": "text/x-python",
   "name": "python",
   "nbconvert_exporter": "python",
   "pygments_lexer": "ipython3",
   "version": "3.6.8"
  }
 },
 "nbformat": 4,
 "nbformat_minor": 2
}
